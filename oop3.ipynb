{
  "nbformat": 4,
  "nbformat_minor": 0,
  "metadata": {
    "colab": {
      "name": "oop3.ipynb",
      "provenance": [],
      "authorship_tag": "ABX9TyMlpBMuttVFWZo6VbV41cZL",
      "include_colab_link": true
    },
    "kernelspec": {
      "name": "python3",
      "display_name": "Python 3"
    },
    "language_info": {
      "name": "python"
    }
  },
  "cells": [
    {
      "cell_type": "markdown",
      "metadata": {
        "id": "view-in-github",
        "colab_type": "text"
      },
      "source": [
        "<a href=\"https://colab.research.google.com/github/Tanuka-Mondal/oop/blob/master/oop3.ipynb\" target=\"_parent\"><img src=\"https://colab.research.google.com/assets/colab-badge.svg\" alt=\"Open In Colab\"/></a>"
      ]
    },
    {
      "cell_type": "code",
      "execution_count": 1,
      "metadata": {
        "colab": {
          "base_uri": "https://localhost:8080/"
        },
        "id": "DwTdL-NgpE_5",
        "outputId": "7e9a0948-d45f-4a4c-b882-31155a4e8e03"
      },
      "outputs": [
        {
          "output_type": "execute_result",
          "data": {
            "text/plain": [
              "<__main__.Books at 0x7f03faa55290>"
            ]
          },
          "metadata": {},
          "execution_count": 1
        }
      ],
      "source": [
        "class Books:\n",
        "    def __init__(self,price,publisher):\n",
        "        self.price = price\n",
        "        self.publisher = publisher\n",
        "\n",
        "Books(500, \"Chhaya Prakashani\")\n",
        "Books(450, \"Parul Prakashani\")"
      ]
    },
    {
      "cell_type": "code",
      "source": [
        "class Books:\n",
        "    def __init__(self,price,publisher):\n",
        "        self.price = price\n",
        "        self.publisher = publisher\n",
        "\n",
        "book1 = Books(500, \"Chhaya Prakashani\")\n",
        "book2 = Books(450, \"Parul Prakashani\")"
      ],
      "metadata": {
        "id": "IzJWJYRxrb9m"
      },
      "execution_count": 2,
      "outputs": []
    },
    {
      "cell_type": "code",
      "source": [
        "book3 = book1"
      ],
      "metadata": {
        "id": "eIMs35tXriGY"
      },
      "execution_count": 3,
      "outputs": []
    },
    {
      "cell_type": "code",
      "source": [
        "print(id(book1))\n",
        "print(id(book3))"
      ],
      "metadata": {
        "colab": {
          "base_uri": "https://localhost:8080/"
        },
        "id": "IO-xrfQRrkIZ",
        "outputId": "751df518-5740-4f50-ecc5-82fbd3394a61"
      },
      "execution_count": 4,
      "outputs": [
        {
          "output_type": "stream",
          "name": "stdout",
          "text": [
            "139655066770256\n",
            "139655066770256\n"
          ]
        }
      ]
    },
    {
      "cell_type": "code",
      "source": [
        "book1.colour = \"red\""
      ],
      "metadata": {
        "id": "_i03xHNirrAi"
      },
      "execution_count": 5,
      "outputs": []
    },
    {
      "cell_type": "code",
      "source": [
        "print(book1.colour)"
      ],
      "metadata": {
        "colab": {
          "base_uri": "https://localhost:8080/"
        },
        "id": "7eUUatXnr4g_",
        "outputId": "b1c256be-ecce-4db7-d00c-617d8edf0dfa"
      },
      "execution_count": 6,
      "outputs": [
        {
          "output_type": "stream",
          "name": "stdout",
          "text": [
            "red\n"
          ]
        }
      ]
    },
    {
      "cell_type": "code",
      "source": [
        "print(book3.colour)"
      ],
      "metadata": {
        "colab": {
          "base_uri": "https://localhost:8080/"
        },
        "id": "JFVXwVVkr-2J",
        "outputId": "8e794555-430e-4827-887c-679ff1a723b7"
      },
      "execution_count": 7,
      "outputs": [
        {
          "output_type": "stream",
          "name": "stdout",
          "text": [
            "red\n"
          ]
        }
      ]
    },
    {
      "cell_type": "code",
      "source": [
        "book3.colour = \"blue\""
      ],
      "metadata": {
        "id": "NQUHl8w_sG8x"
      },
      "execution_count": 8,
      "outputs": []
    },
    {
      "cell_type": "code",
      "source": [
        "print(book1.colour)"
      ],
      "metadata": {
        "colab": {
          "base_uri": "https://localhost:8080/"
        },
        "id": "9A5UW4dBsJ6A",
        "outputId": "7d700e78-674b-4e51-f670-663868f98bf9"
      },
      "execution_count": 9,
      "outputs": [
        {
          "output_type": "stream",
          "name": "stdout",
          "text": [
            "blue\n"
          ]
        }
      ]
    },
    {
      "cell_type": "code",
      "source": [
        "book3 = Books(200, \"Prantik\")"
      ],
      "metadata": {
        "id": "SFI0YDn8sdFH"
      },
      "execution_count": 10,
      "outputs": []
    },
    {
      "cell_type": "code",
      "source": [
        "book3.colour = \"Green\""
      ],
      "metadata": {
        "id": "Hx1867klspFn"
      },
      "execution_count": 11,
      "outputs": []
    },
    {
      "cell_type": "code",
      "source": [
        "print(book3.colour)\n",
        "print(book1.colour)"
      ],
      "metadata": {
        "colab": {
          "base_uri": "https://localhost:8080/"
        },
        "id": "Pw-bls_Vsssw",
        "outputId": "9a80050a-e58a-424a-f159-3a2f8dc93502"
      },
      "execution_count": 12,
      "outputs": [
        {
          "output_type": "stream",
          "name": "stdout",
          "text": [
            "Green\n",
            "blue\n"
          ]
        }
      ]
    },
    {
      "cell_type": "code",
      "source": [
        "print(book1)"
      ],
      "metadata": {
        "colab": {
          "base_uri": "https://localhost:8080/"
        },
        "id": "TniQpQoq1dvD",
        "outputId": "e8b9e627-9160-4c13-928e-634a25b85631"
      },
      "execution_count": 13,
      "outputs": [
        {
          "output_type": "stream",
          "name": "stdout",
          "text": [
            "<__main__.Books object at 0x7f03faa55b50>\n"
          ]
        }
      ]
    },
    {
      "cell_type": "code",
      "source": [
        "class Books:\n",
        "    def __init__(self,price,publisher):\n",
        "        self.price = price\n",
        "        self.publisher = publisher\n",
        "\n",
        "    def __str__(self):\n",
        "        return \"Book's price: \" + str(self.price) + \" and Publisher: \" + self.publisher    \n",
        "\n",
        "book1 = Books(500, \"Chhaya Prakashani\")\n",
        "book2 = Books(450, \"Parul Prakashani\")"
      ],
      "metadata": {
        "id": "wFV_0-id13Fy"
      },
      "execution_count": 14,
      "outputs": []
    },
    {
      "cell_type": "code",
      "source": [
        "print(book1)"
      ],
      "metadata": {
        "colab": {
          "base_uri": "https://localhost:8080/"
        },
        "id": "BhEnBXT22P60",
        "outputId": "707c7fc3-1e62-425d-e563-e50080209910"
      },
      "execution_count": 15,
      "outputs": [
        {
          "output_type": "stream",
          "name": "stdout",
          "text": [
            "Book's price: 500 and Publisher: Chhaya Prakashani\n"
          ]
        }
      ]
    },
    {
      "cell_type": "code",
      "source": [
        "print(book2)"
      ],
      "metadata": {
        "colab": {
          "base_uri": "https://localhost:8080/"
        },
        "id": "y0QwZGyE2Rfy",
        "outputId": "5cc38169-6d5e-4c24-d477-0dfe298d0517"
      },
      "execution_count": 16,
      "outputs": [
        {
          "output_type": "stream",
          "name": "stdout",
          "text": [
            "Book's price: 450 and Publisher: Parul Prakashani\n"
          ]
        }
      ]
    },
    {
      "cell_type": "code",
      "source": [
        ""
      ],
      "metadata": {
        "id": "hf6xIj252Uwl"
      },
      "execution_count": null,
      "outputs": []
    }
  ]
}