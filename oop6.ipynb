{
  "nbformat": 4,
  "nbformat_minor": 0,
  "metadata": {
    "colab": {
      "name": "oop6.ipynb",
      "provenance": [],
      "authorship_tag": "ABX9TyOWiagA2HQbZ/HidRf39doV",
      "include_colab_link": true
    },
    "kernelspec": {
      "name": "python3",
      "display_name": "Python 3"
    },
    "language_info": {
      "name": "python"
    }
  },
  "cells": [
    {
      "cell_type": "markdown",
      "metadata": {
        "id": "view-in-github",
        "colab_type": "text"
      },
      "source": [
        "<a href=\"https://colab.research.google.com/github/Tanuka-Mondal/oop/blob/master/oop6.ipynb\" target=\"_parent\"><img src=\"https://colab.research.google.com/assets/colab-badge.svg\" alt=\"Open In Colab\"/></a>"
      ]
    },
    {
      "cell_type": "code",
      "execution_count": 1,
      "metadata": {
        "id": "m3eFAh4MzxnA"
      },
      "outputs": [],
      "source": [
        "class Mobile:\n",
        "    discount=50\n",
        "    def display(self):\n",
        "        print(self.discount)\n",
        "        print(Mobile.discount)\n",
        "\n",
        "    def change(self):\n",
        "        self.discount=40"
      ]
    },
    {
      "cell_type": "code",
      "source": [
        "m1=Mobile()"
      ],
      "metadata": {
        "id": "3Tf7dCMv0e_u"
      },
      "execution_count": 2,
      "outputs": []
    },
    {
      "cell_type": "code",
      "source": [
        "m1.display()"
      ],
      "metadata": {
        "colab": {
          "base_uri": "https://localhost:8080/"
        },
        "id": "LQyT1Rxe0ie1",
        "outputId": "3e00bd35-42bd-468e-c817-7134f3a1f3bd"
      },
      "execution_count": 3,
      "outputs": [
        {
          "output_type": "stream",
          "name": "stdout",
          "text": [
            "50\n",
            "50\n"
          ]
        }
      ]
    },
    {
      "cell_type": "code",
      "source": [
        "m1.change()"
      ],
      "metadata": {
        "id": "z0AvXiMg0tDU"
      },
      "execution_count": 4,
      "outputs": []
    },
    {
      "cell_type": "code",
      "source": [
        "m1.display()"
      ],
      "metadata": {
        "colab": {
          "base_uri": "https://localhost:8080/"
        },
        "id": "at6Hbid30wlV",
        "outputId": "7fc36525-dfaa-49e0-cda3-d8a7fcc31df6"
      },
      "execution_count": 5,
      "outputs": [
        {
          "output_type": "stream",
          "name": "stdout",
          "text": [
            "40\n",
            "50\n"
          ]
        }
      ]
    },
    {
      "cell_type": "code",
      "source": [
        "class Customer:\n",
        "    def __init__(self, name, age, phone_no):\n",
        "        self.__name = name\n",
        "        self.__age = age\n",
        "        self.__phone_no = phone_no\n",
        "\n",
        "    def view_details(self):\n",
        "        pass\n",
        "\n",
        "    def update_details(self):\n",
        "        pass\n",
        "\n",
        "class Address:\n",
        "    def __init__(self, door_no, street, area, pincode):\n",
        "        self.__door_no = door_no\n",
        "        self.__street = street\n",
        "        self.__area = area\n",
        "        self.__pincode = pincode\n",
        "\n",
        "    def update_address(self):\n",
        "        pass\n"
      ],
      "metadata": {
        "id": "FXup0vPo0eFM"
      },
      "execution_count": 1,
      "outputs": []
    },
    {
      "cell_type": "code",
      "source": [
        "class Customer:\n",
        "    def __init__(self, name, age, phone_no, address):\n",
        "        self.__name = name\n",
        "        self.__age = age\n",
        "        self.__phone_no = phone_no\n",
        "        self.__address = address\n",
        "\n",
        "    def view_details(self):\n",
        "        pass\n",
        "\n",
        "    def update_details(self):\n",
        "        pass\n",
        "\n",
        "class Address:\n",
        "    def __init__(self, door_no, street, area, pincode):\n",
        "        self.__door_no = door_no\n",
        "        self.__street = street\n",
        "        self.__area = area\n",
        "        self.__pincode = pincode\n",
        "\n",
        "    def update_address(self):\n",
        "        pass\n"
      ],
      "metadata": {
        "id": "g1siLdSV08Fl"
      },
      "execution_count": 2,
      "outputs": []
    },
    {
      "cell_type": "code",
      "source": [
        "add1=Address(123,\"5th Lane\",\"A\",56001)\n",
        "add2=Address(567,\"6th Lane\",\"B\",82006)\n"
      ],
      "metadata": {
        "id": "J5J9fY1k1NKs"
      },
      "execution_count": 4,
      "outputs": []
    },
    {
      "cell_type": "code",
      "source": [
        "cus1=Customer(\"Jack\",24,1234,None)\n",
        "cus2=Customer(\"Jane\",25,5678,None)\n"
      ],
      "metadata": {
        "id": "YTBwl0RI1sXc"
      },
      "execution_count": 5,
      "outputs": []
    },
    {
      "cell_type": "code",
      "source": [
        "cus1=Customer(\"Jack\",24,1234,add1)\n",
        "cus2=Customer(\"Jane\",25,5678,add2)\n"
      ],
      "metadata": {
        "id": "D-az53JU1ytM"
      },
      "execution_count": 6,
      "outputs": []
    },
    {
      "cell_type": "code",
      "source": [
        "class Customer:\n",
        "    def __init__(self, name, age, phone_no, address):\n",
        "        self.name = name\n",
        "        self.age = age\n",
        "        self.phone_no = phone_no\n",
        "        self.address = address\n",
        "\n",
        "    def view_details(self):\n",
        "        print (self.name, self.age, self.phone_no)\n",
        "        print (self.address.door_no, self.address.street, self.address.pincode)\n",
        "\n",
        "    def update_details(self,add):\n",
        "        self.address = add\n",
        "\n",
        "class Address:\n",
        "    def __init__(self, door_no, street, pincode):\n",
        "        self.door_no = door_no\n",
        "        self.street = street\n",
        "        self.pincode = pincode\n",
        "\n",
        "    def update_address(self):\n",
        "        pass\n",
        "\n",
        "add1=Address(123, \"5th Lane\", 56001)\n",
        "add2=Address(567, \"6th Lane\", 82006)\n",
        "cus1=Customer(\"Jack\", 24, 1234, add1)\n",
        "\n",
        "cus1.view_details()\n",
        "\n",
        "cus1.update_details(add2)\n",
        "\n",
        "cus1.view_details()\n"
      ],
      "metadata": {
        "colab": {
          "base_uri": "https://localhost:8080/"
        },
        "id": "CTUZlGDR13Wz",
        "outputId": "b0ee5744-99ad-494e-d5ad-87e06fa650f6"
      },
      "execution_count": 11,
      "outputs": [
        {
          "output_type": "stream",
          "name": "stdout",
          "text": [
            "Jack 24 1234\n",
            "123 5th Lane 56001\n",
            "Jack 24 1234\n",
            "567 6th Lane 82006\n"
          ]
        }
      ]
    },
    {
      "cell_type": "code",
      "source": [
        "class Customer:\n",
        "    def __init__(self, name, age, phone_no, address):\n",
        "        self.name = name\n",
        "        self.age = age\n",
        "        self.phone_no = phone_no\n",
        "        self.address = address\n",
        "\n",
        "    def view_details(self):\n",
        "        print (self.name, self.age, self.phone_no)    \n",
        "        print (self.address.__door_no, self.address.__street, self.address.__pincode)\n",
        "\n",
        "class Address:\n",
        "    def __init__(self, door_no, street, pincode):\n",
        "        self.__door_no = door_no\n",
        "        self.__street = street\n",
        "        self.__pincode = pincode\n",
        "\n",
        "    def update_address(self):\n",
        "        pass\n",
        "\n",
        "add1=Address(123, \"5th Lane\", 56001)\n",
        "cus1=Customer(\"Jack\", 24, 1234, add1)\n",
        "\n",
        "cus1.view_details()\n"
      ],
      "metadata": {
        "colab": {
          "base_uri": "https://localhost:8080/",
          "height": 356
        },
        "id": "ukKctBd7DgyI",
        "outputId": "e642476a-7221-4040-8616-64cfb26d09a6"
      },
      "execution_count": 12,
      "outputs": [
        {
          "output_type": "stream",
          "name": "stdout",
          "text": [
            "Jack 24 1234\n"
          ]
        },
        {
          "output_type": "error",
          "ename": "AttributeError",
          "evalue": "ignored",
          "traceback": [
            "\u001b[0;31m---------------------------------------------------------------------------\u001b[0m",
            "\u001b[0;31mAttributeError\u001b[0m                            Traceback (most recent call last)",
            "\u001b[0;32m<ipython-input-12-64cf200d32e3>\u001b[0m in \u001b[0;36m<module>\u001b[0;34m()\u001b[0m\n\u001b[1;32m     22\u001b[0m \u001b[0mcus1\u001b[0m\u001b[0;34m=\u001b[0m\u001b[0mCustomer\u001b[0m\u001b[0;34m(\u001b[0m\u001b[0;34m\"Jack\"\u001b[0m\u001b[0;34m,\u001b[0m \u001b[0;36m24\u001b[0m\u001b[0;34m,\u001b[0m \u001b[0;36m1234\u001b[0m\u001b[0;34m,\u001b[0m \u001b[0madd1\u001b[0m\u001b[0;34m)\u001b[0m\u001b[0;34m\u001b[0m\u001b[0;34m\u001b[0m\u001b[0m\n\u001b[1;32m     23\u001b[0m \u001b[0;34m\u001b[0m\u001b[0m\n\u001b[0;32m---> 24\u001b[0;31m \u001b[0mcus1\u001b[0m\u001b[0;34m.\u001b[0m\u001b[0mview_details\u001b[0m\u001b[0;34m(\u001b[0m\u001b[0;34m)\u001b[0m\u001b[0;34m\u001b[0m\u001b[0;34m\u001b[0m\u001b[0m\n\u001b[0m",
            "\u001b[0;32m<ipython-input-12-64cf200d32e3>\u001b[0m in \u001b[0;36mview_details\u001b[0;34m(self)\u001b[0m\n\u001b[1;32m      8\u001b[0m     \u001b[0;32mdef\u001b[0m \u001b[0mview_details\u001b[0m\u001b[0;34m(\u001b[0m\u001b[0mself\u001b[0m\u001b[0;34m)\u001b[0m\u001b[0;34m:\u001b[0m\u001b[0;34m\u001b[0m\u001b[0;34m\u001b[0m\u001b[0m\n\u001b[1;32m      9\u001b[0m         \u001b[0mprint\u001b[0m \u001b[0;34m(\u001b[0m\u001b[0mself\u001b[0m\u001b[0;34m.\u001b[0m\u001b[0mname\u001b[0m\u001b[0;34m,\u001b[0m \u001b[0mself\u001b[0m\u001b[0;34m.\u001b[0m\u001b[0mage\u001b[0m\u001b[0;34m,\u001b[0m \u001b[0mself\u001b[0m\u001b[0;34m.\u001b[0m\u001b[0mphone_no\u001b[0m\u001b[0;34m)\u001b[0m\u001b[0;34m\u001b[0m\u001b[0;34m\u001b[0m\u001b[0m\n\u001b[0;32m---> 10\u001b[0;31m         \u001b[0mprint\u001b[0m \u001b[0;34m(\u001b[0m\u001b[0mself\u001b[0m\u001b[0;34m.\u001b[0m\u001b[0maddress\u001b[0m\u001b[0;34m.\u001b[0m\u001b[0m__door_no\u001b[0m\u001b[0;34m,\u001b[0m \u001b[0mself\u001b[0m\u001b[0;34m.\u001b[0m\u001b[0maddress\u001b[0m\u001b[0;34m.\u001b[0m\u001b[0m__street\u001b[0m\u001b[0;34m,\u001b[0m \u001b[0mself\u001b[0m\u001b[0;34m.\u001b[0m\u001b[0maddress\u001b[0m\u001b[0;34m.\u001b[0m\u001b[0m__pincode\u001b[0m\u001b[0;34m)\u001b[0m\u001b[0;34m\u001b[0m\u001b[0;34m\u001b[0m\u001b[0m\n\u001b[0m\u001b[1;32m     11\u001b[0m \u001b[0;34m\u001b[0m\u001b[0m\n\u001b[1;32m     12\u001b[0m \u001b[0;32mclass\u001b[0m \u001b[0mAddress\u001b[0m\u001b[0;34m:\u001b[0m\u001b[0;34m\u001b[0m\u001b[0;34m\u001b[0m\u001b[0m\n",
            "\u001b[0;31mAttributeError\u001b[0m: 'Address' object has no attribute '_Customer__door_no'"
          ]
        }
      ]
    },
    {
      "cell_type": "code",
      "source": [
        "class Customer:\n",
        "    def __init__(self, name, age, phone_no, address):\n",
        "        self.name = name\n",
        "        self.age = age\n",
        "        self.phone_no = phone_no\n",
        "        self.address = address\n",
        "\n",
        "    def view_details(self):\n",
        "        print (self.name, self.age, self.phone_no)\n",
        "        print (self.address.get_door_no(), self.address.get_street(), self.address.get_pincode())\n",
        "\n",
        "class Address:\n",
        "    def __init__(self, door_no, street, pincode):\n",
        "        self.__door_no = door_no\n",
        "        self.__street = street\n",
        "        self.__pincode = pincode\n",
        "\n",
        "    def get_door_no(self):\n",
        "        return self.__door_no\n",
        "\n",
        "\n",
        "    def get_street(self):\n",
        "        return self.__street\n",
        "\n",
        "\n",
        "    def get_pincode(self):\n",
        "        return self.__pincode\n",
        "\n",
        "\n",
        "    def set_door_no(self, value):\n",
        "        self.__door_no = value\n",
        "\n",
        "\n",
        "    def set_street(self, value):\n",
        "        self.__street = value\n",
        "\n",
        "\n",
        "    def set_pincode(self, value):\n",
        "        self.__pincode = value\n",
        "\n",
        "\n",
        "    def update_address(self):\n",
        "        pass\n",
        "\n",
        "\n",
        "add1=Address(123, \"5th Lane\", 56001)\n",
        "cus1=Customer(\"Jack\", 24, 1234, add1)\n",
        "\n",
        "cus1.view_details()\n"
      ],
      "metadata": {
        "colab": {
          "base_uri": "https://localhost:8080/"
        },
        "id": "1UcD7JKDFH2U",
        "outputId": "e2e85e89-a63e-4875-b219-0f8b473694d9"
      },
      "execution_count": 13,
      "outputs": [
        {
          "output_type": "stream",
          "name": "stdout",
          "text": [
            "Jack 24 1234\n",
            "123 5th Lane 56001\n"
          ]
        }
      ]
    },
    {
      "cell_type": "code",
      "source": [
        "class Customer:\n",
        "    def __init__(self, name, age, phone_no):\n",
        "        self.name = name\n",
        "        self.age = age\n",
        "        self.phone_no = phone_no\n",
        "\n",
        "    def purchase(self, payment):\n",
        "        if payment.type == \"card\":\n",
        "            print (\"Paying by card\")\n",
        "        elif payment.type == \"e-wallet\":\n",
        "            print (\"Paying by wallet\")\n",
        "        else:\n",
        "            print (\"Paying by cash\")\n",
        "\n",
        "class Payment:\n",
        "    def __init__(self, type):\n",
        "        self.type = type\n",
        "\n",
        "payment1=Payment(\"card\")\n",
        "c=Customer(\"Jack\",23,1234)\n",
        "print(c.name, c.age, c.phone_no)\n",
        "c.purchase(payment1)\n"
      ],
      "metadata": {
        "colab": {
          "base_uri": "https://localhost:8080/"
        },
        "id": "HszMo3TZOoG5",
        "outputId": "41b15004-103d-4b85-9fd2-224e9bcbbb1d"
      },
      "execution_count": 14,
      "outputs": [
        {
          "output_type": "stream",
          "name": "stdout",
          "text": [
            "Jack 23 1234\n",
            "Paying by card\n"
          ]
        }
      ]
    },
    {
      "cell_type": "code",
      "source": [
        "#Object creation\n",
        "class Customer:\n",
        "    def __init__(self, name,cust_type,bill):\n",
        "        self.name = name\n",
        "        self.bill = bill\n",
        "        self.cust_type=cust_type\n",
        "    def calulate_bill(self):\n",
        "        tax1=Tax(self.cust_type)\n",
        "        final_bill=self.bill*tax1.tax_details(self.cust_type)\n",
        "        return final_bill\n",
        "class Tax:\n",
        "    def __init__(self,cust_type):\n",
        "        self.cust_type=cust_type\n",
        "    def tax_details(self,cust_type):\n",
        "        if(cust_type==\"Student\"):\n",
        "            return 5\n",
        "        else:\n",
        "            return 10\n",
        "cust1=Customer(\"Maddy\",\"Student\",100)\n",
        "print(cust1.calulate_bill())\n"
      ],
      "metadata": {
        "colab": {
          "base_uri": "https://localhost:8080/"
        },
        "id": "koFzlEk5O-4r",
        "outputId": "54c934bb-611a-4b13-893c-c7148c01f191"
      },
      "execution_count": 15,
      "outputs": [
        {
          "output_type": "stream",
          "name": "stdout",
          "text": [
            "500\n"
          ]
        }
      ]
    },
    {
      "cell_type": "code",
      "source": [
        "#Usage of static\n",
        "class CustomerCare:\n",
        "    helpline=111000\n",
        "class Customer:\n",
        "    def call_support(self):\n",
        "        print(\"Calling \",CustomerCare.helpline)\n",
        "Customer().call_support()\n"
      ],
      "metadata": {
        "id": "Ev2IZlouS6JB",
        "outputId": "11b04cc3-3cbc-4b63-d931-81c04aeb5657",
        "colab": {
          "base_uri": "https://localhost:8080/"
        }
      },
      "execution_count": 16,
      "outputs": [
        {
          "output_type": "stream",
          "name": "stdout",
          "text": [
            "Calling  111000\n"
          ]
        }
      ]
    }
  ]
}