{
  "nbformat": 4,
  "nbformat_minor": 0,
  "metadata": {
    "colab": {
      "name": "oop2.ipynb",
      "provenance": [],
      "authorship_tag": "ABX9TyMqXvAB2Cba6S85/9QW4Rte",
      "include_colab_link": true
    },
    "kernelspec": {
      "name": "python3",
      "display_name": "Python 3"
    },
    "language_info": {
      "name": "python"
    }
  },
  "cells": [
    {
      "cell_type": "markdown",
      "metadata": {
        "id": "view-in-github",
        "colab_type": "text"
      },
      "source": [
        "<a href=\"https://colab.research.google.com/github/Tanuka-Mondal/oop/blob/master/oop2.ipynb\" target=\"_parent\"><img src=\"https://colab.research.google.com/assets/colab-badge.svg\" alt=\"Open In Colab\"/></a>"
      ]
    },
    {
      "cell_type": "code",
      "execution_count": null,
      "metadata": {
        "colab": {
          "base_uri": "https://localhost:8080/"
        },
        "id": "NoRXdaf68LoE",
        "outputId": "628686be-7006-4e7f-ee08-55d305ef5cc7"
      },
      "outputs": [
        {
          "output_type": "stream",
          "name": "stdout",
          "text": [
            "Inside constructor\n",
            "Inside constructor\n"
          ]
        }
      ],
      "source": [
        "class Books:\n",
        "    def __init__(self):\n",
        "        print(\"Inside constructor\")\n",
        "book1=Books()\n",
        "book2=Books()\n"
      ]
    },
    {
      "cell_type": "code",
      "source": [
        "class Books:\n",
        "    def __init__(self,price,publisher):\n",
        "        print(\"Inside constructor\")\n",
        "        self.price = price\n",
        "        self.publisher = publisher\n",
        "\n",
        "book1=Books(500, \"Chhaya Prakashani\")\n",
        "book2=Books(450, \"Parul Prakashani\")"
      ],
      "metadata": {
        "colab": {
          "base_uri": "https://localhost:8080/"
        },
        "id": "0Aj6pKjj8nBy",
        "outputId": "a918cf0f-5016-4283-d1e1-1030bd1c471b"
      },
      "execution_count": null,
      "outputs": [
        {
          "output_type": "stream",
          "name": "stdout",
          "text": [
            "Inside constructor\n",
            "Inside constructor\n"
          ]
        }
      ]
    },
    {
      "cell_type": "code",
      "source": [
        "print(book1.price,book1.publisher)"
      ],
      "metadata": {
        "colab": {
          "base_uri": "https://localhost:8080/"
        },
        "id": "vMHlWD8R-Cyf",
        "outputId": "79693374-60bb-42b8-d05f-0edaff21daf2"
      },
      "execution_count": null,
      "outputs": [
        {
          "output_type": "stream",
          "name": "stdout",
          "text": [
            "500 Chhaya Prakashani\n"
          ]
        }
      ]
    },
    {
      "cell_type": "code",
      "source": [
        "print(book2.price,book2.publisher)"
      ],
      "metadata": {
        "colab": {
          "base_uri": "https://localhost:8080/"
        },
        "id": "k2Irf1zk-HhX",
        "outputId": "94c5df81-3b37-471f-c91c-b1861175ab55"
      },
      "execution_count": null,
      "outputs": [
        {
          "output_type": "stream",
          "name": "stdout",
          "text": [
            "450 Parul Prakashani\n"
          ]
        }
      ]
    },
    {
      "cell_type": "code",
      "source": [
        "book1=Books(500, \"Chhaya Prakashani\")\n",
        "print(book1.price,book1.publisher)"
      ],
      "metadata": {
        "colab": {
          "base_uri": "https://localhost:8080/"
        },
        "id": "85Erx15l-K0a",
        "outputId": "283db6bd-c9b0-4b2f-ae9f-d9dd29250a24"
      },
      "execution_count": null,
      "outputs": [
        {
          "output_type": "stream",
          "name": "stdout",
          "text": [
            "Inside constructor\n",
            "500 Chhaya Prakashani\n"
          ]
        }
      ]
    },
    {
      "cell_type": "code",
      "source": [
        "book3 = Books()"
      ],
      "metadata": {
        "colab": {
          "base_uri": "https://localhost:8080/",
          "height": 172
        },
        "id": "PuRpgZ-y-Z_O",
        "outputId": "fbb8f194-69e9-4bc1-ba9f-cf44c37a30d4"
      },
      "execution_count": null,
      "outputs": [
        {
          "output_type": "error",
          "ename": "TypeError",
          "evalue": "ignored",
          "traceback": [
            "\u001b[0;31m---------------------------------------------------------------------------\u001b[0m",
            "\u001b[0;31mTypeError\u001b[0m                                 Traceback (most recent call last)",
            "\u001b[0;32m<ipython-input-6-1e2e028e97b6>\u001b[0m in \u001b[0;36m<module>\u001b[0;34m()\u001b[0m\n\u001b[0;32m----> 1\u001b[0;31m \u001b[0mbook3\u001b[0m \u001b[0;34m=\u001b[0m \u001b[0mBooks\u001b[0m\u001b[0;34m(\u001b[0m\u001b[0;34m)\u001b[0m\u001b[0;34m\u001b[0m\u001b[0;34m\u001b[0m\u001b[0m\n\u001b[0m",
            "\u001b[0;31mTypeError\u001b[0m: __init__() missing 2 required positional arguments: 'price' and 'publisher'"
          ]
        }
      ]
    },
    {
      "cell_type": "code",
      "source": [
        "class Books:\n",
        "    def __init__(self,price,publisher):\n",
        "        print(\"Id of self in constructor\", id(self))\n",
        "        self.price = price\n",
        "        self.publisher = publisher\n",
        "\n",
        "book1=Books(500, \"Chhaya Prakashani\")\n",
        "print(\"Id of book1 in driver code\", id(book1))\n",
        "\n",
        "book2=Books(450, \"Parul Prakashani\")\n",
        "print(\"Id of book2 in driver code\", id(book2))"
      ],
      "metadata": {
        "colab": {
          "base_uri": "https://localhost:8080/"
        },
        "id": "9T8QXWPD-vMN",
        "outputId": "677ef03e-b445-4f41-f9d1-e0535719e2f3"
      },
      "execution_count": null,
      "outputs": [
        {
          "output_type": "stream",
          "name": "stdout",
          "text": [
            "Id of self in constructor 139788032787344\n",
            "Id of book1 in driver code 139788032787344\n",
            "Id of self in constructor 139788032787984\n",
            "Id of book2 in driver code 139788032787984\n"
          ]
        }
      ]
    },
    {
      "cell_type": "code",
      "source": [
        "class Laptop:\n",
        "    def __init__(self):\n",
        "        print (\"Inside the Mobile constructor\")\n",
        "        self.brand = None\n",
        "        brand = \"Apple\" \n",
        "\n",
        "lappy1=Laptop()\n",
        "print(lappy1.brand)"
      ],
      "metadata": {
        "colab": {
          "base_uri": "https://localhost:8080/"
        },
        "id": "qquTl_co_xqw",
        "outputId": "caa2d174-a6b3-4477-dca4-d9b7946c538e"
      },
      "execution_count": null,
      "outputs": [
        {
          "output_type": "stream",
          "name": "stdout",
          "text": [
            "Inside the Mobile constructor\n",
            "None\n"
          ]
        }
      ]
    },
    {
      "cell_type": "code",
      "source": [
        "class Laptop:\n",
        "    def __init__(self):\n",
        "        print(\"Inside constructor\")\n",
        "\n",
        "    def buy (self):\n",
        "        print(\"Laptop is sold\")\n",
        "\n",
        "lappy1=Laptop()\n",
        "lappy1.buy()\n",
        "                                                    "
      ],
      "metadata": {
        "colab": {
          "base_uri": "https://localhost:8080/"
        },
        "id": "jvRAiXSbAHQv",
        "outputId": "397c5afb-a227-41e9-e80d-05aec764a103"
      },
      "execution_count": null,
      "outputs": [
        {
          "output_type": "stream",
          "name": "stdout",
          "text": [
            "Inside constructor\n",
            "Laptop is sold\n"
          ]
        }
      ]
    },
    {
      "cell_type": "code",
      "source": [
        "class Books:\n",
        "    def __init__(self,price,publisher):\n",
        "        print(\"Inside constructor\")\n",
        "        self.price = price\n",
        "        self.publisher = publisher\n",
        "\n",
        "    def buy (self):\n",
        "        print(\"Book will be sold\")   \n",
        "        print(\"Publisher\", self.publisher, \"and price\", self.price) \n",
        "\n",
        "book1=Books(500, \"Chhaya Prakashani\")\n",
        "book1.buy()\n",
        "print(\"\")\n",
        "book2=Books(450, \"Parul Prakashani\")\n",
        "book2.buy()"
      ],
      "metadata": {
        "colab": {
          "base_uri": "https://localhost:8080/"
        },
        "id": "2dxdeJ7JAttf",
        "outputId": "c0e875e0-af12-4e83-c314-3c9ef0a88b3e"
      },
      "execution_count": null,
      "outputs": [
        {
          "output_type": "stream",
          "name": "stdout",
          "text": [
            "Inside constructor\n",
            "Book will be sold\n",
            "Publisher Chhaya Prakashani and price 500\n",
            "\n",
            "Inside constructor\n",
            "Book will be sold\n",
            "Publisher Parul Prakashani and price 450\n"
          ]
        }
      ]
    },
    {
      "cell_type": "code",
      "source": [
        "class Books:\n",
        "    def __init__(self,price,publisher):\n",
        "        print(\"Inside constructor\")\n",
        "        self.price = price\n",
        "        self.publisher = publisher\n",
        "\n",
        "    def buy (self):\n",
        "        print(\"Book will be sold\")   \n",
        "        print(\"Publisher\", self.publisher, \"and price\", self.price) \n",
        "\n",
        "    def return_b (self):\n",
        "        print(\"Book will be returned\")   \n",
        "        print(\"Publisher\", self.publisher, \"and price\", self.price)    \n",
        "\n",
        "book1=Books(500, \"Chhaya Prakashani\")\n",
        "book1.buy()\n",
        "print(\"\")\n",
        "book2=Books(450, \"Parul Prakashani\")\n",
        "book2.return_b()"
      ],
      "metadata": {
        "colab": {
          "base_uri": "https://localhost:8080/"
        },
        "id": "_ltTja1XclKF",
        "outputId": "356da9e9-3e55-4d8e-826b-76301756117f"
      },
      "execution_count": null,
      "outputs": [
        {
          "output_type": "stream",
          "name": "stdout",
          "text": [
            "Inside constructor\n",
            "Book will be sold\n",
            "Publisher Chhaya Prakashani and price 500\n",
            "\n",
            "Inside constructor\n",
            "Book will be returned\n",
            "Publisher Parul Prakashani and price 450\n"
          ]
        }
      ]
    },
    {
      "cell_type": "code",
      "source": [
        ""
      ],
      "metadata": {
        "id": "H_Mb25FPgo_V"
      },
      "execution_count": null,
      "outputs": []
    }
  ]
}