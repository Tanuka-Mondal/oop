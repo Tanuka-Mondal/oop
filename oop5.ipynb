{
  "nbformat": 4,
  "nbformat_minor": 0,
  "metadata": {
    "colab": {
      "name": "oop5.ipynb",
      "provenance": [],
      "authorship_tag": "ABX9TyNPLvOaIYp302w3XgHJxxmF",
      "include_colab_link": true
    },
    "kernelspec": {
      "name": "python3",
      "display_name": "Python 3"
    },
    "language_info": {
      "name": "python"
    }
  },
  "cells": [
    {
      "cell_type": "markdown",
      "metadata": {
        "id": "view-in-github",
        "colab_type": "text"
      },
      "source": [
        "<a href=\"https://colab.research.google.com/github/Tanuka-Mondal/oop/blob/master/oop5.ipynb\" target=\"_parent\"><img src=\"https://colab.research.google.com/assets/colab-badge.svg\" alt=\"Open In Colab\"/></a>"
      ]
    },
    {
      "cell_type": "code",
      "execution_count": null,
      "metadata": {
        "colab": {
          "base_uri": "https://localhost:8080/"
        },
        "id": "xyvuATSZL7Sm",
        "outputId": "280e3f93-fa9d-448a-f536-d448555dd7f1"
      },
      "outputs": [
        {
          "output_type": "stream",
          "name": "stdout",
          "text": [
            "700\n"
          ]
        }
      ],
      "source": [
        "class Books:\n",
        "    def __init__(self,price,publisher):\n",
        "        self.price = price\n",
        "        self.publisher = publisher\n",
        "\n",
        "def change_price(book):\n",
        "        book.price = 700\n",
        "\n",
        "book1 = Books(500, \"Chhaya Prakashani\")\n",
        "book2 = Books(450, \"Parul Prakashani\")\n",
        "\n",
        "change_price(book1)\n",
        "print (book1.price)"
      ]
    },
    {
      "cell_type": "code",
      "source": [
        "class Books:\n",
        "    def __init__(self,price,publisher):\n",
        "        self.price = price\n",
        "        self.publisher = publisher\n",
        "\n",
        "    def change_price(book):\n",
        "        book.price = 800\n",
        "\n",
        "book1 = Books(500, \"Chhaya Prakashani\")\n",
        "book2 = Books(450, \"Parul Prakashani\")\n",
        "\n",
        "book1.change_price()\n",
        "print (book1.price)"
      ],
      "metadata": {
        "colab": {
          "base_uri": "https://localhost:8080/"
        },
        "id": "5J6AJHW1XSx0",
        "outputId": "e3b4735e-db44-4721-ffce-6a28bd3be4f9"
      },
      "execution_count": null,
      "outputs": [
        {
          "output_type": "stream",
          "name": "stdout",
          "text": [
            "800\n"
          ]
        }
      ]
    },
    {
      "cell_type": "code",
      "source": [
        "class Books:\n",
        "    def __init__(self,price,subject):\n",
        "        self.price = price\n",
        "        self.subject = subject\n",
        "\n",
        "book1 = Books(500, \"Physics\")\n",
        "book2 = Books(450, \"Chemistry\")\n",
        "book3 = Books(600, \"Maths\")\n",
        "book4 = Books(300, \"Biology\")\n",
        "book5 = Books(400, \"Cs\")\n",
        "\n",
        "booklist = [book1, book2, book3, book4, book5]\n",
        "\n",
        "for book in booklist:\n",
        "  print (book.subject,book.price)"
      ],
      "metadata": {
        "colab": {
          "base_uri": "https://localhost:8080/"
        },
        "id": "n0N16GQo-Ygi",
        "outputId": "3edf8509-b6d8-4b8a-9eeb-9f7ba32b7d8b"
      },
      "execution_count": null,
      "outputs": [
        {
          "output_type": "stream",
          "name": "stdout",
          "text": [
            "Physics 500\n",
            "Chemistry 450\n",
            "Maths 600\n",
            "Biology 300\n",
            "Cs 400\n"
          ]
        }
      ]
    },
    {
      "cell_type": "code",
      "source": [
        "bookdict = {\n",
        "    \"b1\": book1,\n",
        "    \"b2\": book2,\n",
        "    \"b3\": book3,\n",
        "    \"b4\": book4,\n",
        "    \"b5\": book5\n",
        "}"
      ],
      "metadata": {
        "id": "qOH8ZAgA_pha"
      },
      "execution_count": null,
      "outputs": []
    },
    {
      "cell_type": "code",
      "source": [
        "for key,value in bookdict.items():\n",
        "        print (value.subject,value.price)"
      ],
      "metadata": {
        "colab": {
          "base_uri": "https://localhost:8080/"
        },
        "id": "9K8ODxg0__is",
        "outputId": "0b8813ce-b14a-4fb4-d8fa-3f532a23005f"
      },
      "execution_count": null,
      "outputs": [
        {
          "output_type": "stream",
          "name": "stdout",
          "text": [
            "Physics 500\n",
            "Chemistry 450\n",
            "Maths 600\n",
            "Biology 300\n",
            "Cs 400\n"
          ]
        }
      ]
    },
    {
      "cell_type": "code",
      "source": [
        "for key,value in bookdict.items():\n",
        "    if value.price < 500:\n",
        "        print (value.subject,value.price)"
      ],
      "metadata": {
        "colab": {
          "base_uri": "https://localhost:8080/"
        },
        "id": "icgy_gAaAMu7",
        "outputId": "6a304d23-6f20-40a4-98a3-a48fe4b7e6ec"
      },
      "execution_count": null,
      "outputs": [
        {
          "output_type": "stream",
          "name": "stdout",
          "text": [
            "Chemistry 450\n",
            "Biology 300\n",
            "Cs 400\n"
          ]
        }
      ]
    },
    {
      "cell_type": "code",
      "source": [
        "class Mobile:\n",
        "    def __init__(self, price, brand):\n",
        "        self.price = price\n",
        "        self.brand = brand\n",
        "        self.discount = 0\n",
        "    def purchase(self):\n",
        "        total = self.price - self.price * self.discount / 100\n",
        "        print (self.brand, \"mobile with price\", self.price, \"is available after discount at\", total)\n",
        "def enable_discount(list_of_mobiles):\n",
        "    for mobile in list_of_mobiles:\n",
        "        mobile.discount=50\n",
        "def disable_discount(list_of_mobiles):\n",
        "    for mobile in list_of_mobiles:\n",
        "        mobile.discount=0\n",
        "mob1=Mobile(20000, \"Apple\")\n",
        "mob2=Mobile(30000, \"Apple\")\n",
        "mob3=Mobile(5000, \"Samsung\")\n",
        "mob4=Mobile(6000, \"Samsung\")\n",
        "list_of_mobiles=[mob1,mob2,mob3,mob4]\n",
        "mob1.purchase()\n",
        "enable_discount(list_of_mobiles)\n",
        "mob2.purchase()\n",
        "mob3.purchase()\n",
        "disable_discount(list_of_mobiles)\n",
        "mob4.purchase()\n"
      ],
      "metadata": {
        "colab": {
          "base_uri": "https://localhost:8080/"
        },
        "id": "irrsnbpoFBZB",
        "outputId": "fc1e1e61-0593-4020-9197-306fbd02ac07"
      },
      "execution_count": null,
      "outputs": [
        {
          "output_type": "stream",
          "name": "stdout",
          "text": [
            "Apple mobile with price 20000 is available after discount at 20000.0\n",
            "Apple mobile with price 30000 is available after discount at 15000.0\n",
            "Samsung mobile with price 5000 is available after discount at 2500.0\n",
            "Samsung mobile with price 6000 is available after discount at 6000.0\n"
          ]
        }
      ]
    },
    {
      "cell_type": "code",
      "source": [
        "class Mobile:\n",
        "    discount = 50\n",
        "    def __init__(self, price, brand):\n",
        "        self.price = price\n",
        "        self.brand = brand\n",
        "\n",
        "    def purchase(self):\n",
        "        total = self.price - self.price * Mobile.discount / 100\n",
        "        print (self.brand, \"mobile with price\", self.price, \"is available after discount at\", total)\n",
        "\n",
        "mob1=Mobile(20000, \"Apple\")\n",
        "mob2=Mobile(30000, \"Apple\")\n",
        "mob3=Mobile(5000, \"Samsung\")\n",
        "\n",
        "mob1.purchase()\n",
        "mob2.purchase()\n",
        "mob3.purchase()\n"
      ],
      "metadata": {
        "colab": {
          "base_uri": "https://localhost:8080/"
        },
        "id": "iTuNJ7rCGHgI",
        "outputId": "201c3171-ecf7-43d1-d9fd-c908c7242982"
      },
      "execution_count": null,
      "outputs": [
        {
          "output_type": "stream",
          "name": "stdout",
          "text": [
            "Apple mobile with price 20000 is available after discount at 10000.0\n",
            "Apple mobile with price 30000 is available after discount at 15000.0\n",
            "Samsung mobile with price 5000 is available after discount at 2500.0\n"
          ]
        }
      ]
    },
    {
      "cell_type": "code",
      "source": [
        "class Mobile:\n",
        "    discount = 50\n",
        "    def __init__(self, price, brand):\n",
        "        self.price = price\n",
        "        self.brand = brand\n",
        "\n",
        "    def purchase(self):\n",
        "        total = self.price - self.price * Mobile.discount / 100\n",
        "        print (self.brand, \"mobile with price\", self.price, \"is available after discount at\", total)\n",
        "\n",
        "def enable_discount():\n",
        "    Mobile.discount = 50\n",
        "\n",
        "def disable_discount():\n",
        "    Mobile.discount = 0\n",
        "\n",
        "mob1=Mobile(20000, \"Apple\")\n",
        "mob2=Mobile(30000, \"Apple\")\n",
        "mob3=Mobile(5000, \"Samsung\")\n",
        "\n",
        "mob1.purchase()\n",
        "enable_discount()\n",
        "mob1.purchase()\n",
        "mob2.purchase()\n",
        "disable_discount()\n",
        "mob3.purchase()\n"
      ],
      "metadata": {
        "colab": {
          "base_uri": "https://localhost:8080/"
        },
        "id": "pDF6UXQ2GZVx",
        "outputId": "cb2f7277-37c8-48c5-eaf9-ed112ac64e56"
      },
      "execution_count": null,
      "outputs": [
        {
          "output_type": "stream",
          "name": "stdout",
          "text": [
            "Apple mobile with price 20000 is available after discount at 10000.0\n",
            "Apple mobile with price 20000 is available after discount at 10000.0\n",
            "Apple mobile with price 30000 is available after discount at 15000.0\n",
            "Samsung mobile with price 5000 is available after discount at 5000.0\n"
          ]
        }
      ]
    },
    {
      "cell_type": "code",
      "source": [
        "class Mobile:\n",
        "    discount = 0\n",
        "    def __init__(self, price, brand):\n",
        "        self.price = price\n",
        "        self.brand = brand\n",
        "\n",
        "    def purchase(self):\n",
        "        total = self.price - self.price * Mobile.discount / 100\n",
        "        print (self.brand, \"mobile with price\", self.price, \"is available after discount at\", total)\n",
        "\n",
        "def enable_discount():\n",
        "    Mobile.discount = 50\n",
        "\n",
        "def disable_discount():\n",
        "    Mobile.discount = 0\n",
        "\n",
        "mob1=Mobile(20000, \"Apple\")\n",
        "mob2=Mobile(30000, \"Apple\")\n",
        "mob3=Mobile(5000, \"Samsung\")\n",
        "\n",
        "mob1.purchase()\n",
        "enable_discount()\n",
        "mob1.purchase()\n",
        "mob2.purchase()\n",
        "disable_discount()\n",
        "mob3.purchase()\n"
      ],
      "metadata": {
        "colab": {
          "base_uri": "https://localhost:8080/"
        },
        "id": "v25KnM-WGp_b",
        "outputId": "7fc9dc52-dcc5-49e8-a4af-83313b3c61bb"
      },
      "execution_count": null,
      "outputs": [
        {
          "output_type": "stream",
          "name": "stdout",
          "text": [
            "Apple mobile with price 20000 is available after discount at 20000.0\n",
            "Apple mobile with price 20000 is available after discount at 10000.0\n",
            "Apple mobile with price 30000 is available after discount at 15000.0\n",
            "Samsung mobile with price 5000 is available after discount at 5000.0\n"
          ]
        }
      ]
    },
    {
      "cell_type": "code",
      "source": [
        "class Mobile:\n",
        "    __discount = 50\n",
        "\n",
        "    def get_discount(self):\n",
        "        return Mobile.__discount\n",
        "\n",
        "    def set_discount(self,discount):\n",
        "        Mobile.__discount = discount\n",
        "\n",
        "m1=Mobile()\n",
        "print(m1.get_discount())\n",
        "m1.set_discount(60)\n",
        "print(m1.get_discount())"
      ],
      "metadata": {
        "colab": {
          "base_uri": "https://localhost:8080/"
        },
        "id": "465ocM-GHCmq",
        "outputId": "1b810e6a-c172-4e3a-a7e4-8c2f5eb3986c"
      },
      "execution_count": null,
      "outputs": [
        {
          "output_type": "stream",
          "name": "stdout",
          "text": [
            "50\n",
            "60\n"
          ]
        }
      ]
    },
    {
      "cell_type": "code",
      "source": [
        "class Mobile:\n",
        "    __discount = 50\n",
        "    def __init__(self, price, brand):\n",
        "        self.price = price\n",
        "        self.brand = brand\n",
        "\n",
        "    def purchase(self):\n",
        "        total = self.price - self.price * Mobile.__discount / 100\n",
        "        print (\"Total is \",total)\n",
        "\n",
        "    def get_discount(self):\n",
        "        return Mobile.__discount\n",
        "\n",
        "    def set_discount(self,discount):\n",
        "        Mobile.__discount = discount\n",
        "\n",
        "mob1=Mobile(20000, \"Apple\")\n",
        "mob2=Mobile(30000, \"Apple\")\n",
        "mob3=Mobile(5000, \"Samsung\")\n",
        "\n",
        "print(mob1.get_discount())\n"
      ],
      "metadata": {
        "colab": {
          "base_uri": "https://localhost:8080/"
        },
        "id": "CutqQUzzHaaq",
        "outputId": "f0ca8956-0537-4939-f5e0-d519c9a330d7"
      },
      "execution_count": null,
      "outputs": [
        {
          "output_type": "stream",
          "name": "stdout",
          "text": [
            "50\n"
          ]
        }
      ]
    },
    {
      "cell_type": "code",
      "source": [
        "class Mobile:\n",
        "    __discount = 50\n",
        "    def __init__(self, price, brand):\n",
        "        self.price = price\n",
        "        self.brand = brand\n",
        "\n",
        "    def purchase(self):\n",
        "        total = self.price - self.price * Mobile.__discount / 100\n",
        "        print (\"Total is \",total)\n",
        "\n",
        " \n",
        "    def get_discount():\n",
        "        return Mobile.__discount\n",
        "\n",
        "\n",
        "    def set_discount(discount):\n",
        "        Mobile.__discount = discount\n",
        "\n",
        "print (Mobile.get_discount())\n"
      ],
      "metadata": {
        "colab": {
          "base_uri": "https://localhost:8080/"
        },
        "id": "tsWzFdy8HbdN",
        "outputId": "1e0dbb9b-de8f-4120-85c8-2d21c5a9300a"
      },
      "execution_count": null,
      "outputs": [
        {
          "output_type": "stream",
          "name": "stdout",
          "text": [
            "50\n"
          ]
        }
      ]
    },
    {
      "cell_type": "code",
      "source": [
        "class Mobile:\n",
        "    __discount = 50\n",
        "    def __init__(self, price, brand):\n",
        "        self.price = price\n",
        "        self.brand = brand\n",
        "\n",
        "    def purchase(self):\n",
        "        total = self.price - self.price * Mobile.__discount / 100\n",
        "        print (self.brand, \"mobile with price\", self.price, \"is available after discount at\", total)\n",
        "\n",
        "    @staticmethod\n",
        "    def enable_discount():\n",
        "        Mobile.set_discount(50)\n",
        "\n",
        "    @staticmethod\n",
        "    def disable_discount():\n",
        "        Mobile.set_discount(0)\n",
        "\n",
        "    @staticmethod\n",
        "    def get_discount():\n",
        "        return Mobile.__discount\n",
        "\n",
        "    @staticmethod\n",
        "    def set_discount(discount):\n",
        "        Mobile.__discount = discount\n",
        "\n",
        "mob1=Mobile(20000, \"Apple\")\n",
        "mob2=Mobile(30000, \"Apple\")\n",
        "mob3=Mobile(5000, \"Samsung\")\n",
        "\n",
        "Mobile.disable_discount()\n",
        "\n",
        "mob1.purchase()\n",
        "\n",
        "Mobile.enable_discount()\n",
        "\n",
        "mob2.purchase()\n",
        "\n",
        "Mobile.disable_discount()\n",
        "\n",
        "mob3.purchase()\n",
        "                                                    "
      ],
      "metadata": {
        "colab": {
          "base_uri": "https://localhost:8080/"
        },
        "id": "nOYmcDDPI_1i",
        "outputId": "1270f9c1-ac13-4f6f-883f-a4f47e4a1ce7"
      },
      "execution_count": null,
      "outputs": [
        {
          "output_type": "stream",
          "name": "stdout",
          "text": [
            "Apple mobile with price 20000 is available after discount at 20000.0\n",
            "Apple mobile with price 30000 is available after discount at 15000.0\n",
            "Samsung mobile with price 5000 is available after discount at 5000.0\n"
          ]
        }
      ]
    },
    {
      "cell_type": "code",
      "source": [
        "class Mobile:\n",
        "    counter = 1000\n",
        "    def __init__(self, price, brand):\n",
        "        self.price = price\n",
        "        self.brand = brand\n",
        "        self.mobile_id = Mobile.counter\n",
        "        Mobile.counter += 1\n",
        "\n",
        "mob1=Mobile(20000, \"Apple\")\n",
        "mob2=Mobile(30000, \"Apple\")\n",
        "mob3=Mobile(5000, \"Samsung\")\n",
        "\n",
        "print(\"mobile_id for mob1 is\", mob1.mobile_id)\n",
        "print(\"mobile_id for mob2 is\", mob2.mobile_id)\n",
        "print(\"mobile_id for mob3 is\", mob3.mobile_id)\n",
        "\n",
        "print(\"Current value of counter is\", Mobile.counter)\n"
      ],
      "metadata": {
        "id": "e1neRiwXJa8I",
        "outputId": "ba8a35d2-badb-44ff-abc9-25f3b9d36e56",
        "colab": {
          "base_uri": "https://localhost:8080/"
        }
      },
      "execution_count": null,
      "outputs": [
        {
          "output_type": "stream",
          "name": "stdout",
          "text": [
            "mobile_id for mob1 is 1000\n",
            "mobile_id for mob2 is 1001\n",
            "mobile_id for mob3 is 1002\n",
            "Current value of counter is 1003\n"
          ]
        }
      ]
    }
  ]
}