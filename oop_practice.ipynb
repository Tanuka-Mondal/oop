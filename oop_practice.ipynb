{
  "nbformat": 4,
  "nbformat_minor": 0,
  "metadata": {
    "colab": {
      "name": "oop_practice.ipynb",
      "provenance": [],
      "authorship_tag": "ABX9TyMR8Bjgy631WN7UKdW3VYX9",
      "include_colab_link": true
    },
    "kernelspec": {
      "name": "python3",
      "display_name": "Python 3"
    },
    "language_info": {
      "name": "python"
    }
  },
  "cells": [
    {
      "cell_type": "markdown",
      "metadata": {
        "id": "view-in-github",
        "colab_type": "text"
      },
      "source": [
        "<a href=\"https://colab.research.google.com/github/Tanuka-Mondal/oop/blob/master/oop_practice.ipynb\" target=\"_parent\"><img src=\"https://colab.research.google.com/assets/colab-badge.svg\" alt=\"Open In Colab\"/></a>"
      ]
    },
    {
      "cell_type": "code",
      "execution_count": 1,
      "metadata": {
        "colab": {
          "base_uri": "https://localhost:8080/"
        },
        "id": "Vp9a7jsRgs_-",
        "outputId": "34a994b7-0650-48cf-e8b4-fec8532d1605"
      },
      "outputs": [
        {
          "output_type": "stream",
          "name": "stdout",
          "text": [
            "The employee is eligible for special benefits\n",
            "The employee is not eligible for special benefits\n"
          ]
        }
      ],
      "source": [
        "class Employee:\n",
        "    def __init__(self):\n",
        "        self.employee_id = None\n",
        "    def check_eligibility(self):\n",
        "        if(self.employee_id>=9000 and self.employee_id<=10000):\n",
        "            print(\"The employee is eligible for special benefits\")\n",
        "        else:\n",
        "            print(\"The employee is not eligible for special benefits\")\n",
        "emp1=Employee()\n",
        "emp1.employee_id=10000\n",
        "emp1.check_eligibility()\n",
        "emp2=Employee()\n",
        "emp2.employee_id=4500\n",
        "emp2.check_eligibility()"
      ]
    },
    {
      "cell_type": "code",
      "source": [
        "class Example:\n",
        "    def __init__(self,num):\n",
        "        self.num=num\n",
        "\n",
        "    def set_num(self,num):\n",
        "        self.num=num\n",
        "\n",
        "    def get_num(self):\n",
        "        return self.num\n",
        "obj=Example(10)\n",
        "print(obj.get_num())\n",
        "obj.set_num(15)\n",
        "print(obj.get_num())"
      ],
      "metadata": {
        "colab": {
          "base_uri": "https://localhost:8080/"
        },
        "id": "dtbLweDNhZ52",
        "outputId": "29e82910-323a-4ff2-ada4-a7d04efd7789"
      },
      "execution_count": 2,
      "outputs": [
        {
          "output_type": "stream",
          "name": "stdout",
          "text": [
            "10\n",
            "15\n"
          ]
        }
      ]
    },
    {
      "cell_type": "code",
      "source": [
        "class Example:\n",
        "    def __init__(self,num):\n",
        "        self.num=num\n",
        "\n",
        "    def set_num(self,num):\n",
        "        num=num\n",
        "\n",
        "    def get_num(self):\n",
        "        return self.num\n",
        "obj=Example(10)\n",
        "print(obj.get_num())\n",
        "obj.set_num(15)\n",
        "print(obj.get_num())"
      ],
      "metadata": {
        "colab": {
          "base_uri": "https://localhost:8080/"
        },
        "id": "s9SZ9YP9hx4n",
        "outputId": "d0c2e29d-7a34-4d49-d7dd-44c7f73c378d"
      },
      "execution_count": 3,
      "outputs": [
        {
          "output_type": "stream",
          "name": "stdout",
          "text": [
            "10\n",
            "10\n"
          ]
        }
      ]
    },
    {
      "cell_type": "code",
      "source": [
        "class Customer:\n",
        "    def __init__(self):\n",
        "        cust_id = 100\n",
        "\n",
        "c1=Customer()\n",
        "print(c1.cust_id)"
      ],
      "metadata": {
        "colab": {
          "base_uri": "https://localhost:8080/",
          "height": 209
        },
        "id": "cifk0c0aiPQG",
        "outputId": "be476d32-1508-4167-c254-b08f5bb39269"
      },
      "execution_count": 4,
      "outputs": [
        {
          "output_type": "error",
          "ename": "AttributeError",
          "evalue": "ignored",
          "traceback": [
            "\u001b[0;31m---------------------------------------------------------------------------\u001b[0m",
            "\u001b[0;31mAttributeError\u001b[0m                            Traceback (most recent call last)",
            "\u001b[0;32m<ipython-input-4-8c518daca554>\u001b[0m in \u001b[0;36m<module>\u001b[0;34m()\u001b[0m\n\u001b[1;32m      4\u001b[0m \u001b[0;34m\u001b[0m\u001b[0m\n\u001b[1;32m      5\u001b[0m \u001b[0mc1\u001b[0m\u001b[0;34m=\u001b[0m\u001b[0mCustomer\u001b[0m\u001b[0;34m(\u001b[0m\u001b[0;34m)\u001b[0m\u001b[0;34m\u001b[0m\u001b[0;34m\u001b[0m\u001b[0m\n\u001b[0;32m----> 6\u001b[0;31m \u001b[0mprint\u001b[0m\u001b[0;34m(\u001b[0m\u001b[0mc1\u001b[0m\u001b[0;34m.\u001b[0m\u001b[0mcust_id\u001b[0m\u001b[0;34m)\u001b[0m\u001b[0;34m\u001b[0m\u001b[0;34m\u001b[0m\u001b[0m\n\u001b[0m",
            "\u001b[0;31mAttributeError\u001b[0m: 'Customer' object has no attribute 'cust_id'"
          ]
        }
      ]
    },
    {
      "cell_type": "code",
      "source": [
        "class Customer:\n",
        "    def __init__(self,id):\n",
        "        id = 100\n",
        "\n",
        "c1=Customer(200)\n",
        "print(c1.id)"
      ],
      "metadata": {
        "colab": {
          "base_uri": "https://localhost:8080/",
          "height": 209
        },
        "id": "FHN4Ohn2iYmk",
        "outputId": "22bd0a83-31dc-42a2-8c62-f358880b14c1"
      },
      "execution_count": 5,
      "outputs": [
        {
          "output_type": "error",
          "ename": "AttributeError",
          "evalue": "ignored",
          "traceback": [
            "\u001b[0;31m---------------------------------------------------------------------------\u001b[0m",
            "\u001b[0;31mAttributeError\u001b[0m                            Traceback (most recent call last)",
            "\u001b[0;32m<ipython-input-5-6333aa9586af>\u001b[0m in \u001b[0;36m<module>\u001b[0;34m()\u001b[0m\n\u001b[1;32m      4\u001b[0m \u001b[0;34m\u001b[0m\u001b[0m\n\u001b[1;32m      5\u001b[0m \u001b[0mc1\u001b[0m\u001b[0;34m=\u001b[0m\u001b[0mCustomer\u001b[0m\u001b[0;34m(\u001b[0m\u001b[0;36m200\u001b[0m\u001b[0;34m)\u001b[0m\u001b[0;34m\u001b[0m\u001b[0;34m\u001b[0m\u001b[0m\n\u001b[0;32m----> 6\u001b[0;31m \u001b[0mprint\u001b[0m\u001b[0;34m(\u001b[0m\u001b[0mc1\u001b[0m\u001b[0;34m.\u001b[0m\u001b[0mid\u001b[0m\u001b[0;34m)\u001b[0m\u001b[0;34m\u001b[0m\u001b[0;34m\u001b[0m\u001b[0m\n\u001b[0m",
            "\u001b[0;31mAttributeError\u001b[0m: 'Customer' object has no attribute 'id'"
          ]
        }
      ]
    },
    {
      "cell_type": "code",
      "source": [
        "class Customer:\n",
        "    def __init__(self,id1):\n",
        "        self.id = id1\n",
        "\n",
        "c1=Customer(200)\n",
        "print(c1.id1)"
      ],
      "metadata": {
        "colab": {
          "base_uri": "https://localhost:8080/",
          "height": 209
        },
        "id": "bRGPR2d3ilQt",
        "outputId": "5a726387-a9e6-4827-fb06-e7afa9414b83"
      },
      "execution_count": 6,
      "outputs": [
        {
          "output_type": "error",
          "ename": "AttributeError",
          "evalue": "ignored",
          "traceback": [
            "\u001b[0;31m---------------------------------------------------------------------------\u001b[0m",
            "\u001b[0;31mAttributeError\u001b[0m                            Traceback (most recent call last)",
            "\u001b[0;32m<ipython-input-6-36a8f1d1ab59>\u001b[0m in \u001b[0;36m<module>\u001b[0;34m()\u001b[0m\n\u001b[1;32m      4\u001b[0m \u001b[0;34m\u001b[0m\u001b[0m\n\u001b[1;32m      5\u001b[0m \u001b[0mc1\u001b[0m\u001b[0;34m=\u001b[0m\u001b[0mCustomer\u001b[0m\u001b[0;34m(\u001b[0m\u001b[0;36m200\u001b[0m\u001b[0;34m)\u001b[0m\u001b[0;34m\u001b[0m\u001b[0;34m\u001b[0m\u001b[0m\n\u001b[0;32m----> 6\u001b[0;31m \u001b[0mprint\u001b[0m\u001b[0;34m(\u001b[0m\u001b[0mc1\u001b[0m\u001b[0;34m.\u001b[0m\u001b[0mid1\u001b[0m\u001b[0;34m)\u001b[0m\u001b[0;34m\u001b[0m\u001b[0;34m\u001b[0m\u001b[0m\n\u001b[0m",
            "\u001b[0;31mAttributeError\u001b[0m: 'Customer' object has no attribute 'id1'"
          ]
        }
      ]
    },
    {
      "cell_type": "code",
      "source": [
        "class Customer:\n",
        "    def __init__(self,id1):\n",
        "        self.id = id1\n",
        "\n",
        "c1=Customer(200)\n",
        "print(c1.id)"
      ],
      "metadata": {
        "colab": {
          "base_uri": "https://localhost:8080/"
        },
        "id": "IGobZKQXisB1",
        "outputId": "d7f4a66c-762e-421f-b733-6ad8b1fbad1c"
      },
      "execution_count": 7,
      "outputs": [
        {
          "output_type": "stream",
          "name": "stdout",
          "text": [
            "200\n"
          ]
        }
      ]
    },
    {
      "cell_type": "code",
      "source": [
        "class Book:\n",
        "    def __init__(self):\n",
        "        self.title=None\n",
        "\n",
        "\n",
        "my_fav=Book()\n",
        "my_fav.title=\"Head First Programming\"\n",
        "your_fav=Book()\n",
        "your_fav.title=\"Learn Python the hard way\"\n",
        "my_fav.title=\"Learning Python\"\n",
        "print(\"My favorite is\",my_fav.title)\n",
        "print(\"Your's is\",your_fav.title)"
      ],
      "metadata": {
        "colab": {
          "base_uri": "https://localhost:8080/"
        },
        "id": "rbWw34nyixt3",
        "outputId": "1df8c790-7bdd-4f9a-f54d-a0e19a68f255"
      },
      "execution_count": 8,
      "outputs": [
        {
          "output_type": "stream",
          "name": "stdout",
          "text": [
            "My favorite is Learning Python\n",
            "Your's is Learn Python the hard way\n"
          ]
        }
      ]
    }
  ]
}