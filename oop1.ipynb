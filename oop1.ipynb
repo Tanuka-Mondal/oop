{
  "nbformat": 4,
  "nbformat_minor": 0,
  "metadata": {
    "colab": {
      "name": "oop1.ipynb",
      "provenance": [],
      "authorship_tag": "ABX9TyOYW5mIZ9vvNMGgZ5fTiOjp",
      "include_colab_link": true
    },
    "kernelspec": {
      "name": "python3",
      "display_name": "Python 3"
    },
    "language_info": {
      "name": "python"
    }
  },
  "cells": [
    {
      "cell_type": "markdown",
      "metadata": {
        "id": "view-in-github",
        "colab_type": "text"
      },
      "source": [
        "<a href=\"https://colab.research.google.com/github/Tanuka-Mondal/oop/blob/master/oop1.ipynb\" target=\"_parent\"><img src=\"https://colab.research.google.com/assets/colab-badge.svg\" alt=\"Open In Colab\"/></a>"
      ]
    },
    {
      "cell_type": "code",
      "execution_count": 1,
      "metadata": {
        "id": "uZtI9Mww5LF1"
      },
      "outputs": [],
      "source": [
        "class Books:\n",
        "    pass"
      ]
    },
    {
      "cell_type": "code",
      "source": [
        "book1=Books()\n",
        "book2=Books()"
      ],
      "metadata": {
        "id": "8LvkxTs45Xxw"
      },
      "execution_count": 2,
      "outputs": []
    },
    {
      "cell_type": "code",
      "source": [
        "print(id(book1))\n",
        "print(id(book2))"
      ],
      "metadata": {
        "colab": {
          "base_uri": "https://localhost:8080/"
        },
        "id": "hPO88kma5bbq",
        "outputId": "856cafea-a164-409c-f778-04ee0fa2eb8c"
      },
      "execution_count": 3,
      "outputs": [
        {
          "output_type": "stream",
          "name": "stdout",
          "text": [
            "140293827272528\n",
            "140293827272464\n"
          ]
        }
      ]
    },
    {
      "cell_type": "code",
      "source": [
        "book1.price = 500\n",
        "book1.publisher = \"Chhaya prakashani\"\n",
        "\n",
        "book2.price = 450\n",
        "book2.publisher = \"Parul prakashani\""
      ],
      "metadata": {
        "id": "EM9KAgFv5ijw"
      },
      "execution_count": 4,
      "outputs": []
    },
    {
      "cell_type": "code",
      "source": [
        "print(book1.price,book1.publisher)\n",
        "print(book2.price,book2.publisher)"
      ],
      "metadata": {
        "colab": {
          "base_uri": "https://localhost:8080/"
        },
        "id": "XFpNBRhj5wRh",
        "outputId": "68a1693b-3c3c-46ff-f067-992d7a43b10c"
      },
      "execution_count": 5,
      "outputs": [
        {
          "output_type": "stream",
          "name": "stdout",
          "text": [
            "500 Chhaya prakashani\n",
            "450 Parul prakashani\n"
          ]
        }
      ]
    },
    {
      "cell_type": "code",
      "source": [
        "book1.copies = 25"
      ],
      "metadata": {
        "id": "sdkFB2IV56no"
      },
      "execution_count": 6,
      "outputs": []
    },
    {
      "cell_type": "code",
      "source": [
        "print(book1.price,book1.publisher,book1.copies)"
      ],
      "metadata": {
        "colab": {
          "base_uri": "https://localhost:8080/"
        },
        "id": "18K-3AxX6Ag3",
        "outputId": "616e8711-fc1b-4004-ad10-846a1c04f147"
      },
      "execution_count": 7,
      "outputs": [
        {
          "output_type": "stream",
          "name": "stdout",
          "text": [
            "500 Chhaya prakashani 25\n"
          ]
        }
      ]
    },
    {
      "cell_type": "code",
      "source": [
        "book1.copies = 30"
      ],
      "metadata": {
        "id": "wK2t9lv16J-X"
      },
      "execution_count": 8,
      "outputs": []
    },
    {
      "cell_type": "code",
      "source": [
        "print(book1.copies)"
      ],
      "metadata": {
        "colab": {
          "base_uri": "https://localhost:8080/"
        },
        "id": "_T2ZS-Hs6Mrz",
        "outputId": "f1b33383-3d8d-4bd2-a847-5f2ece663339"
      },
      "execution_count": 9,
      "outputs": [
        {
          "output_type": "stream",
          "name": "stdout",
          "text": [
            "30\n"
          ]
        }
      ]
    },
    {
      "cell_type": "code",
      "source": [
        "book2.colour = \"red\""
      ],
      "metadata": {
        "id": "3pMe06QU6P8Q"
      },
      "execution_count": 10,
      "outputs": []
    },
    {
      "cell_type": "code",
      "source": [
        "print(book2.colour)"
      ],
      "metadata": {
        "colab": {
          "base_uri": "https://localhost:8080/"
        },
        "id": "LDA_t2At6T40",
        "outputId": "200e079d-523c-467c-d8ca-4348daefecb2"
      },
      "execution_count": 11,
      "outputs": [
        {
          "output_type": "stream",
          "name": "stdout",
          "text": [
            "red\n"
          ]
        }
      ]
    },
    {
      "cell_type": "code",
      "source": [
        "print(book1.colour)"
      ],
      "metadata": {
        "colab": {
          "base_uri": "https://localhost:8080/",
          "height": 172
        },
        "id": "0kG3vERp6Xbz",
        "outputId": "12ff90f2-05ee-4e19-9a7c-1a1689fb31d5"
      },
      "execution_count": 12,
      "outputs": [
        {
          "output_type": "error",
          "ename": "AttributeError",
          "evalue": "ignored",
          "traceback": [
            "\u001b[0;31m---------------------------------------------------------------------------\u001b[0m",
            "\u001b[0;31mAttributeError\u001b[0m                            Traceback (most recent call last)",
            "\u001b[0;32m<ipython-input-12-101aa1f6c398>\u001b[0m in \u001b[0;36m<module>\u001b[0;34m()\u001b[0m\n\u001b[0;32m----> 1\u001b[0;31m \u001b[0mprint\u001b[0m\u001b[0;34m(\u001b[0m\u001b[0mbook1\u001b[0m\u001b[0;34m.\u001b[0m\u001b[0mcolour\u001b[0m\u001b[0;34m)\u001b[0m\u001b[0;34m\u001b[0m\u001b[0;34m\u001b[0m\u001b[0m\n\u001b[0m",
            "\u001b[0;31mAttributeError\u001b[0m: 'Books' object has no attribute 'colour'"
          ]
        }
      ]
    },
    {
      "cell_type": "code",
      "source": [
        ""
      ],
      "metadata": {
        "id": "XdYAioMg6qko"
      },
      "execution_count": null,
      "outputs": []
    }
  ]
}