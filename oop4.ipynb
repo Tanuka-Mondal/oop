{
  "nbformat": 4,
  "nbformat_minor": 0,
  "metadata": {
    "colab": {
      "name": "oop4.ipynb",
      "provenance": [],
      "authorship_tag": "ABX9TyOPvE4IG0CttZSJYxsZz9/2",
      "include_colab_link": true
    },
    "kernelspec": {
      "name": "python3",
      "display_name": "Python 3"
    },
    "language_info": {
      "name": "python"
    }
  },
  "cells": [
    {
      "cell_type": "markdown",
      "metadata": {
        "id": "view-in-github",
        "colab_type": "text"
      },
      "source": [
        "<a href=\"https://colab.research.google.com/github/Tanuka-Mondal/oop/blob/master/oop4.ipynb\" target=\"_parent\"><img src=\"https://colab.research.google.com/assets/colab-badge.svg\" alt=\"Open In Colab\"/></a>"
      ]
    },
    {
      "cell_type": "code",
      "execution_count": 2,
      "metadata": {
        "colab": {
          "base_uri": "https://localhost:8080/"
        },
        "id": "ZM0pc7Zh6Is3",
        "outputId": "3704791b-a5df-47b6-f131-6a3e52f5ff99"
      },
      "outputs": [
        {
          "output_type": "stream",
          "name": "stdout",
          "text": [
            "500\n",
            "600\n"
          ]
        }
      ],
      "source": [
        "class Books:\n",
        "    def __init__(self,price,publisher):\n",
        "        self.price = price\n",
        "        self.publisher = publisher\n",
        "\n",
        "    def update_price(self, amount):\n",
        "        if amount < 1000 and amount > 0:\n",
        "            self.price += amount\n",
        "\n",
        "    def show_price(self):\n",
        "        print (\"Price \",self.price)    \n",
        "\n",
        "book1 = Books(500, \"Chhaya Prakashani\")\n",
        "book2 = Books(450, \"Parul Prakashani\")\n",
        "\n",
        "print(book1.price)\n",
        "book1.price = 600\n",
        "print(book1.price)"
      ]
    },
    {
      "cell_type": "code",
      "source": [
        "class Books:\n",
        "    def __init__(self,price,publisher):\n",
        "        self.__price = price\n",
        "        self.publisher = publisher\n",
        "\n",
        "    def update_price(self, amount):\n",
        "        if amount < 1000 and amount > 0:\n",
        "            self.__price += amount\n",
        "\n",
        "    def show_price(self):\n",
        "        print (\"Price \",self.__price)    \n",
        "\n",
        "book1 = Books(500, \"Chhaya Prakashani\")\n",
        "book2 = Books(450, \"Parul Prakashani\")\n",
        "\n",
        "print(book1.__price)"
      ],
      "metadata": {
        "colab": {
          "base_uri": "https://localhost:8080/",
          "height": 209
        },
        "id": "-9nNg8Qz6zT5",
        "outputId": "06132120-b24a-4cd2-f640-d56c08176e83"
      },
      "execution_count": 3,
      "outputs": [
        {
          "output_type": "error",
          "ename": "AttributeError",
          "evalue": "ignored",
          "traceback": [
            "\u001b[0;31m---------------------------------------------------------------------------\u001b[0m",
            "\u001b[0;31mAttributeError\u001b[0m                            Traceback (most recent call last)",
            "\u001b[0;32m<ipython-input-3-39862217afbd>\u001b[0m in \u001b[0;36m<module>\u001b[0;34m()\u001b[0m\n\u001b[1;32m     14\u001b[0m \u001b[0mbook2\u001b[0m \u001b[0;34m=\u001b[0m \u001b[0mBooks\u001b[0m\u001b[0;34m(\u001b[0m\u001b[0;36m450\u001b[0m\u001b[0;34m,\u001b[0m \u001b[0;34m\"Parul Prakashani\"\u001b[0m\u001b[0;34m)\u001b[0m\u001b[0;34m\u001b[0m\u001b[0;34m\u001b[0m\u001b[0m\n\u001b[1;32m     15\u001b[0m \u001b[0;34m\u001b[0m\u001b[0m\n\u001b[0;32m---> 16\u001b[0;31m \u001b[0mprint\u001b[0m\u001b[0;34m(\u001b[0m\u001b[0mbook1\u001b[0m\u001b[0;34m.\u001b[0m\u001b[0m__price\u001b[0m\u001b[0;34m)\u001b[0m\u001b[0;34m\u001b[0m\u001b[0;34m\u001b[0m\u001b[0m\n\u001b[0m",
            "\u001b[0;31mAttributeError\u001b[0m: 'Books' object has no attribute '__price'"
          ]
        }
      ]
    },
    {
      "cell_type": "code",
      "source": [
        "book1.show_price()"
      ],
      "metadata": {
        "colab": {
          "base_uri": "https://localhost:8080/"
        },
        "id": "wLvwPqaT7J8p",
        "outputId": "8db88b4c-17a0-4c9d-9b0b-1de949f320d8"
      },
      "execution_count": 4,
      "outputs": [
        {
          "output_type": "stream",
          "name": "stdout",
          "text": [
            "Price  500\n"
          ]
        }
      ]
    },
    {
      "cell_type": "code",
      "source": [
        "book1.__price = 550"
      ],
      "metadata": {
        "id": "m2iQeBmW7PWK"
      },
      "execution_count": 5,
      "outputs": []
    },
    {
      "cell_type": "code",
      "source": [
        "book1.show_price()"
      ],
      "metadata": {
        "colab": {
          "base_uri": "https://localhost:8080/"
        },
        "id": "4MIhNyCP7dGA",
        "outputId": "950af2df-c033-478e-896f-56f267a6065a"
      },
      "execution_count": 6,
      "outputs": [
        {
          "output_type": "stream",
          "name": "stdout",
          "text": [
            "Price  500\n"
          ]
        }
      ]
    },
    {
      "cell_type": "code",
      "source": [
        "book1._Books__price = 1000"
      ],
      "metadata": {
        "id": "-cAjxKhc7qUh"
      },
      "execution_count": 7,
      "outputs": []
    },
    {
      "cell_type": "code",
      "source": [
        "book1.show_price()"
      ],
      "metadata": {
        "colab": {
          "base_uri": "https://localhost:8080/"
        },
        "id": "qQOJjD5k7w8I",
        "outputId": "4fc8a8a6-310e-4c92-d6d9-897efd6bd7f7"
      },
      "execution_count": 8,
      "outputs": [
        {
          "output_type": "stream",
          "name": "stdout",
          "text": [
            "Price  1000\n"
          ]
        }
      ]
    },
    {
      "cell_type": "code",
      "source": [
        "class Books:\n",
        "    def __init__(self,price,publisher):\n",
        "        self.__price = price\n",
        "        self.publisher = publisher\n",
        "\n",
        "    def set_price(self, amount):\n",
        "        if amount < 1000 and amount > 0:\n",
        "            self.__price = amount\n",
        "\n",
        "    def get_price(self):\n",
        "        print (\"Price \",self.__price)    \n",
        "\n",
        "book1 = Books(500, \"Chhaya Prakashani\")\n",
        "book2 = Books(450, \"Parul Prakashani\")\n",
        "\n",
        "book1.get_price()\n",
        "book1.set_price(600)\n",
        "print(book1.get_price())"
      ],
      "metadata": {
        "colab": {
          "base_uri": "https://localhost:8080/"
        },
        "id": "keIXsjzq7z9e",
        "outputId": "f43f2aa5-94b1-43e1-9a42-a8a5790ccfed"
      },
      "execution_count": 13,
      "outputs": [
        {
          "output_type": "stream",
          "name": "stdout",
          "text": [
            "Price  500\n",
            "Price  600\n",
            "None\n"
          ]
        }
      ]
    }
  ]
}